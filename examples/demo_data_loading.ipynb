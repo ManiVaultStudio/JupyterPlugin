{
 "cells": [
  {
   "cell_type": "markdown",
   "id": "87e45de3-5c51-43c0-83f8-c4e8aeed00d5",
   "metadata": {},
   "source": [
    "# Push data to and load data from ManiVault"
   ]
  },
  {
   "cell_type": "markdown",
   "id": "0d8c6822",
   "metadata": {},
   "source": [
    "> Install the modules listed in requirements.txt before running this notebook!"
   ]
  },
  {
   "cell_type": "markdown",
   "id": "60f56fd1-3ffb-41fd-8f2c-56661aea4fed",
   "metadata": {},
   "source": [
    "In order to interact with the ManiVault application that started this Python kernel, we use a dedicated module:"
   ]
  },
  {
   "cell_type": "code",
   "execution_count": null,
   "id": "f33177d2-037d-43c7-8c46-51c57f67e89a",
   "metadata": {},
   "outputs": [],
   "source": [
    "import mvstudio.data"
   ]
  },
  {
   "cell_type": "markdown",
   "id": "b6f14c4b-75b3-4d55-8338-f0cbe333a3f7",
   "metadata": {},
   "source": [
    "Our main point of entrance to ManiVault is its data hierarchy:"
   ]
  },
  {
   "cell_type": "code",
   "execution_count": null,
   "id": "3cc2f753-7754-462e-9e77-d788a6d80f22",
   "metadata": {},
   "outputs": [],
   "source": [
    "dh = mvstudio.data.Hierarchy()\n",
    "print(dh)"
   ]
  },
  {
   "cell_type": "markdown",
   "id": "51cf668d-6ce5-496f-a81e-3c10c0c56f99",
   "metadata": {},
   "source": [
    "At this point, no data is loaded and the data hierarchy is empty.\n",
    "\n",
    "Let's load some data on the Python side and push it to ManiVault:"
   ]
  },
  {
   "cell_type": "code",
   "execution_count": null,
   "id": "dca0e5d2-e901-428c-876e-2bd2af63dea6",
   "metadata": {},
   "outputs": [],
   "source": [
    "from skimage import data\n",
    "import matplotlib.pyplot as plt\n",
    "\n",
    "cat = data.cat()\n",
    "\n",
    "plt.imshow(cat)"
   ]
  },
  {
   "cell_type": "markdown",
   "id": "3003c7b7-a48f-4156-9287-28ec837f956c",
   "metadata": {},
   "source": [
    "We push our cat image to ManiVault via the data hierarchy `dh`. We may add `Point`, `Image` and `Cluster` data.  ManiVault handles images as two data set items, a collection of data points and a description of how they relate to image position. Similarly, ManiVault considers clusters as a meta-datasets that is connected to point data and stores clusters as sets of indices of the parent points.\n",
    "\n",
    "We can `addPointsItem` if we have a simply point data set, but want to use `addImageItem` for automatically creating both ManiVault data items:"
   ]
  },
  {
   "cell_type": "code",
   "execution_count": null,
   "id": "8fd006d5-2829-4861-a5ab-a1d65cf08e49",
   "metadata": {},
   "outputs": [],
   "source": [
    "cat_mv_item = dh.addImageItem(cat, \"Cat\")"
   ]
  },
  {
   "cell_type": "markdown",
   "id": "48b0d5b3-e155-42e5-b8d4-ca66ace2b5e2",
   "metadata": {},
   "source": [
    "ManiVault informs us that the data points were internally converted to `float`."
   ]
  },
  {
   "cell_type": "markdown",
   "id": "445e9803-d246-43d0-bab4-a628992acbdf",
   "metadata": {},
   "source": [
    "We can inspect the data item that ManiVault created and see that indeed two data sets were populated, a `Points` and a `Image` data set:"
   ]
  },
  {
   "cell_type": "code",
   "execution_count": null,
   "id": "dcfc32b3-2018-4603-acab-4d9f202b61fc",
   "metadata": {},
   "outputs": [],
   "source": [
    "print(cat_mv_item)"
   ]
  },
  {
   "cell_type": "markdown",
   "id": "f9a63df5-9477-46e1-83ae-c1a8af07bfca",
   "metadata": {},
   "source": [
    "Each dataset is assigned a unique identifier, a data set ID. When loading data from ManiVault we can use this ID, it's position in the data hierarchy or name to identify a data set.\n",
    "The unique identifier of a data set is accessible via the data hierarchy in ManiVault: right-click a data entry and select \"Copy dataset ID\" to save the ID to the clipboard. Using `Ctrl` + `V` you can insert the ID in this notebook."
   ]
  },
  {
   "cell_type": "code",
   "execution_count": null,
   "id": "1274b228-bcf3-47eb-add8-93386b1fd388",
   "metadata": {},
   "outputs": [],
   "source": [
    "cat1 = dh.getItemByDataID(cat_mv_item.datasetId)\n",
    "cat2 = dh.getItemByIndex([1])\n",
    "cat3 = dh.getItemByName(\"Cat\")\n",
    "\n",
    "print(cat1)\n",
    "print(cat2)\n",
    "print(cat3)"
   ]
  },
  {
   "cell_type": "markdown",
   "id": "5f777ce3-331e-4a08-9102-22f3fde70cd2",
   "metadata": {},
   "source": [
    "> When multiple data sets have the same name, `getItemByName` will only return the first instance!"
   ]
  },
  {
   "cell_type": "markdown",
   "id": "b3a36680-7f90-4408-8694-53870f847896",
   "metadata": {},
   "source": [
    "Our cat `Point` data does not know anything about the spatial arrangement in image space:"
   ]
  },
  {
   "cell_type": "code",
   "execution_count": null,
   "id": "7b263317-7d83-4fc3-b7fa-677c3bdb969d",
   "metadata": {},
   "outputs": [],
   "source": [
    "print(f\"Data points and dimensions: {cat1.points.shape}\")"
   ]
  },
  {
   "cell_type": "markdown",
   "id": "6564954c-0bab-451d-ada9-a7c2b4580ac0",
   "metadata": {},
   "source": [
    "The corresponging cat `Image` data arranges the data into a proper shape:"
   ]
  },
  {
   "cell_type": "code",
   "execution_count": null,
   "id": "3dcc1dc9-477b-4522-8e57-04f743628613",
   "metadata": {},
   "outputs": [],
   "source": [
    "cat_img = dh.getItemByIndex([1, 1])\n",
    "print(f\"Image height, width and channels: {cat_img.image.shape}\")"
   ]
  },
  {
   "cell_type": "markdown",
   "id": "ca50aeb8-38a0-4307-ac34-8e4666b1c27a",
   "metadata": {},
   "source": [
    "Remember that ManiVault converted the data into `float`. For a full roundtrip, we'd like to convert them back to their original type:"
   ]
  },
  {
   "cell_type": "code",
   "execution_count": null,
   "id": "62895c75-7be8-48a2-84d3-b00966c87621",
   "metadata": {},
   "outputs": [],
   "source": [
    "import numpy as np\n",
    "cat_roundtrip = cat_img.image.astype(np.uint8)\n",
    "print(f\"Value type of original image: {cat.dtype}\")\n",
    "print(f\"Value type of roundtrip image: {cat_roundtrip.dtype}\")"
   ]
  },
  {
   "cell_type": "markdown",
   "id": "3b024274-b85c-4317-a164-b0a3d0934856",
   "metadata": {},
   "source": [
    "Let's have a look again, it should be the same!"
   ]
  },
  {
   "cell_type": "code",
   "execution_count": null,
   "id": "7fe812ed-d5c6-4449-b90d-39a6ef913011",
   "metadata": {},
   "outputs": [],
   "source": [
    "plt.imshow(cat_roundtrip)"
   ]
  },
  {
   "cell_type": "markdown",
   "id": "9f5d0f2e",
   "metadata": {},
   "source": [
    "Next, let's push a `Cluster` data set to ManiVault. \n",
    "\n",
    "We first need to create a list of indices that define our clusters. Here, we simply define the upper and lower half of our image as clusters."
   ]
  },
  {
   "cell_type": "code",
   "execution_count": null,
   "id": "74152f5c",
   "metadata": {},
   "outputs": [],
   "source": [
    "def split_array(n):\n",
    "    import numpy as np\n",
    "    if n % 2 != 0:\n",
    "        raise ValueError(\"n must be an even number\")\n",
    "    half = n // 2\n",
    "    array1 = np.arange(0, half)\n",
    "    array2 = np.arange(half, n)\n",
    "    return [array1, array2]\n",
    "\n",
    "clusterIndices = split_array(cat_mv_item.numpoints)"
   ]
  },
  {
   "cell_type": "markdown",
   "id": "31929a37",
   "metadata": {},
   "source": [
    "We need to tell ManiVault which point data set our clusters refer to:"
   ]
  },
  {
   "cell_type": "code",
   "execution_count": null,
   "id": "9c7bda8b",
   "metadata": {},
   "outputs": [],
   "source": [
    "cluster_mv_item = dh.addClusterItem(cat_mv_item.datasetId, clusterIndices, \"CatClusters\")"
   ]
  },
  {
   "cell_type": "markdown",
   "id": "7e4e000f",
   "metadata": {},
   "source": [
    "Let's have a look at the data hierarchy again. It mirrors what you see in ManiVault!"
   ]
  },
  {
   "cell_type": "code",
   "execution_count": null,
   "id": "6e7681da",
   "metadata": {},
   "outputs": [],
   "source": [
    "dh = mvstudio.data.Hierarchy()\n",
    "print(dh)"
   ]
  },
  {
   "cell_type": "markdown",
   "id": "e9c4cf27",
   "metadata": {},
   "source": [
    "Clusters in ManiVault are automatically assigned names and colors. Optionally, you can set them yourself when calling `addClusterItem(names=[...], colors=[...])` and pass lists of string and numpy arrays respectively."
   ]
  },
  {
   "cell_type": "code",
   "execution_count": null,
   "id": "c55cde64",
   "metadata": {},
   "outputs": [],
   "source": [
    "clusters_retrieved = dh.getItemByIndex([1, 2])\n",
    "print(f\"First indices of first cluster: {clusters_retrieved.cluster.indices[0][:5]}\")\n",
    "print(f\"Cluster names: {clusters_retrieved.cluster.names}\")\n",
    "print(f\"Cluster colors: {clusters_retrieved.cluster.colors}\")"
   ]
  }
 ],
 "metadata": {
  "kernelspec": {
   "display_name": "ManiVaultStudio",
   "language": "python",
   "name": "manivaultstudio"
  },
  "language_info": {
   "codemirror_mode": "",
   "file_extension": "py",
   "mimetype": "text/x-python",
   "name": "python",
   "nbconvert_exporter": "",
   "pygments_lexer": "",
   "version": "3.11"
  }
 },
 "nbformat": 4,
 "nbformat_minor": 5
}
