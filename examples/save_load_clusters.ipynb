{
 "cells": [
  {
   "cell_type": "code",
   "execution_count": 5,
   "id": "0ab3fb4f-44ed-4c7b-94ad-2f549ca0a861",
   "metadata": {},
   "outputs": [],
   "source": [
    "import mvstudio.data\n",
    "import numpy as np\n",
    "import pickle\n",
    "import os"
   ]
  },
  {
   "cell_type": "code",
   "execution_count": null,
   "id": "50cc6b81-d34c-499a-a8d6-069eeb6e35b1",
   "metadata": {},
   "outputs": [],
   "source": [
    "def saveCluster(name, clusterId):\n",
    "    \"\"\" \n",
    "    Save just clusters separately instead of whole ManiVault Studio projects.\n",
    "    Clusters are saved in 3 pickle files in a new folder.\n",
    "    \n",
    "    name = Arbitrary name of cluster, is use in ManiVault Studio, but also a folder and pickle file names.\n",
    "    clusterID = the dataset ID of the cluster that should be saved, can be found in the mvstudio.data.Hierarchy or in by right-clicking -> 'Copy dataset ID' on an item in Manivault Studio.\n",
    "    \"\"\"\n",
    "    h = mvstudio.data.Hierarchy()\n",
    "\n",
    "    clusterItem = h.getItemByDataID(clusterId)\n",
    "    parentId = clusterItem._hierarchy_id[:-1]\n",
    "    parentItem = h.getItemByIndex(parentId)\n",
    "    parentIndex = parentItem.datasetId\n",
    "    \n",
    "    cwd = os.getcwd()\n",
    "    path = os.path.join(cwd, name)\n",
    "    if not os.path.exists(path):\n",
    "        os.makedirs(path)\n",
    "    \n",
    "    with open(f\"{name}/{name}_indices.p\", \"wb\") as fp:\n",
    "        pickle.dump(clusterItem.cluster.indices, fp)\n",
    "        \n",
    "    with open(f\"{name}/{name}_names.p\", \"wb\") as fp2:\n",
    "        pickle.dump(clusterItem.cluster.names, fp2)\n",
    "\n",
    "    with open(f\"{name}/{name}_parent.p\", \"wb\") as fp3:\n",
    "        pickle.dump(parentIndex, fp3)\n",
    "\n",
    "def loadCluster(name):\n",
    "    \"\"\" \n",
    "    Load just clusters separately instead of whole ManiVault Studio projects.\n",
    "    Clusters are loaded from a 3 pickle files in a folder with name=name and files name_indices.p, name_names.p, name_parent.p\n",
    "    Cluster should be visible in ManiVaultStudio under 'name' after loading.\n",
    "    \n",
    "    name = Name of cluster, folder, and files.\n",
    "    \n",
    "    \"\"\"\n",
    "    h = mvstudio.data.Hierarchy()\n",
    "        \n",
    "    with open(f\"{name}/{name}_indices.p\", \"rb\") as fp: \n",
    "        indices = pickle.load(fp)\n",
    "    \n",
    "    with open(f\"{name}/{name}_names.p\", \"rb\") as fp2: \n",
    "        clusterNames = pickle.load(fp2)\n",
    "\n",
    "    with open(f\"{name}/{name}_parent.p\", \"rb\") as fp3:\n",
    "        parentDatasetID = pickle.load(fp3)\n",
    "    \n",
    "    cluster = h.addClusterItem(parent=parentDatasetID, indices=indices, name=name, names=clusterNames)\n",
    "\n",
    "    "
   ]
  },
  {
   "cell_type": "code",
   "execution_count": null,
   "id": "00c1cc7f-a5f9-4605-9432-e972ad260e3e",
   "metadata": {},
   "outputs": [],
   "source": [
    "saveCluster('Cell_types1', clusterId='ab1cc3a8-bcc9-43d2-a8ff-f17d9a2129b8')"
   ]
  },
  {
   "cell_type": "code",
   "execution_count": null,
   "id": "549efc25-bad9-4ba8-8214-c26a66fd4f3a",
   "metadata": {},
   "outputs": [],
   "source": [
    "loadCluster('Cell_types1')"
   ]
  }
 ],
 "metadata": {
  "kernelspec": {
   "display_name": "ManiVaultStudio",
   "language": "python",
   "name": "manivaultstudio"
  },
  "language_info": {
   "codemirror_mode": "",
   "file_extension": "py",
   "mimetype": "text/x-python",
   "name": "python",
   "nbconvert_exporter": "",
   "pygments_lexer": "",
   "version": "3.11"
  }
 },
 "nbformat": 4,
 "nbformat_minor": 5
}
